{
 "cells": [
  {
   "cell_type": "code",
   "execution_count": 30,
   "id": "authorized-blond",
   "metadata": {},
   "outputs": [],
   "source": [
    "import pandas as pd\n",
    "import numpy as np\n",
    "import matplotlib.pyplot as plt\n",
    "import seaborn as sns"
   ]
  },
  {
   "cell_type": "code",
   "execution_count": 31,
   "id": "wired-right",
   "metadata": {},
   "outputs": [
    {
     "data": {
      "text/html": [
       "<div>\n",
       "<style scoped>\n",
       "    .dataframe tbody tr th:only-of-type {\n",
       "        vertical-align: middle;\n",
       "    }\n",
       "\n",
       "    .dataframe tbody tr th {\n",
       "        vertical-align: top;\n",
       "    }\n",
       "\n",
       "    .dataframe thead th {\n",
       "        text-align: right;\n",
       "    }\n",
       "</style>\n",
       "<table border=\"1\" class=\"dataframe\">\n",
       "  <thead>\n",
       "    <tr style=\"text-align: right;\">\n",
       "      <th></th>\n",
       "      <th>Unnamed: 0</th>\n",
       "      <th>filename_img</th>\n",
       "      <th>label</th>\n",
       "      <th>lung_vol</th>\n",
       "      <th>ggo_vol</th>\n",
       "      <th>cons_vol</th>\n",
       "      <th>ggo_percent</th>\n",
       "      <th>cons_percent</th>\n",
       "      <th>all_percent</th>\n",
       "    </tr>\n",
       "  </thead>\n",
       "  <tbody>\n",
       "    <tr>\n",
       "      <th>0</th>\n",
       "      <td>0</td>\n",
       "      <td>0584.nii.gz</td>\n",
       "      <td>0</td>\n",
       "      <td>8.799608e+05</td>\n",
       "      <td>101262.464263</td>\n",
       "      <td>7634.767110</td>\n",
       "      <td>0.115076</td>\n",
       "      <td>0.008676</td>\n",
       "      <td>0.123752</td>\n",
       "    </tr>\n",
       "    <tr>\n",
       "      <th>1</th>\n",
       "      <td>1</td>\n",
       "      <td>0686.nii.gz</td>\n",
       "      <td>0</td>\n",
       "      <td>1.322827e+06</td>\n",
       "      <td>14352.467911</td>\n",
       "      <td>6476.314017</td>\n",
       "      <td>0.010850</td>\n",
       "      <td>0.004896</td>\n",
       "      <td>0.015746</td>\n",
       "    </tr>\n",
       "    <tr>\n",
       "      <th>2</th>\n",
       "      <td>2</td>\n",
       "      <td>0566.nii.gz</td>\n",
       "      <td>0</td>\n",
       "      <td>8.534346e+05</td>\n",
       "      <td>25826.467095</td>\n",
       "      <td>7317.175039</td>\n",
       "      <td>0.030262</td>\n",
       "      <td>0.008574</td>\n",
       "      <td>0.038836</td>\n",
       "    </tr>\n",
       "    <tr>\n",
       "      <th>3</th>\n",
       "      <td>3</td>\n",
       "      <td>0149.nii.gz</td>\n",
       "      <td>1</td>\n",
       "      <td>7.175350e+05</td>\n",
       "      <td>54897.051362</td>\n",
       "      <td>11171.307165</td>\n",
       "      <td>0.076508</td>\n",
       "      <td>0.015569</td>\n",
       "      <td>0.092077</td>\n",
       "    </tr>\n",
       "    <tr>\n",
       "      <th>4</th>\n",
       "      <td>4</td>\n",
       "      <td>0482.nii.gz</td>\n",
       "      <td>0</td>\n",
       "      <td>1.230611e+06</td>\n",
       "      <td>31598.478007</td>\n",
       "      <td>10465.487741</td>\n",
       "      <td>0.025677</td>\n",
       "      <td>0.008504</td>\n",
       "      <td>0.034181</td>\n",
       "    </tr>\n",
       "  </tbody>\n",
       "</table>\n",
       "</div>"
      ],
      "text/plain": [
       "   Unnamed: 0 filename_img  label      lung_vol        ggo_vol      cons_vol  \\\n",
       "0           0  0584.nii.gz      0  8.799608e+05  101262.464263   7634.767110   \n",
       "1           1  0686.nii.gz      0  1.322827e+06   14352.467911   6476.314017   \n",
       "2           2  0566.nii.gz      0  8.534346e+05   25826.467095   7317.175039   \n",
       "3           3  0149.nii.gz      1  7.175350e+05   54897.051362  11171.307165   \n",
       "4           4  0482.nii.gz      0  1.230611e+06   31598.478007  10465.487741   \n",
       "\n",
       "   ggo_percent  cons_percent  all_percent  \n",
       "0     0.115076      0.008676     0.123752  \n",
       "1     0.010850      0.004896     0.015746  \n",
       "2     0.030262      0.008574     0.038836  \n",
       "3     0.076508      0.015569     0.092077  \n",
       "4     0.025677      0.008504     0.034181  "
      ]
     },
     "execution_count": 31,
     "metadata": {},
     "output_type": "execute_result"
    }
   ],
   "source": [
    "df = pd.read_csv('final.csv')\n",
    "df.head()"
   ]
  },
  {
   "cell_type": "code",
   "execution_count": null,
   "id": "compressed-austin",
   "metadata": {},
   "outputs": [],
   "source": []
  },
  {
   "cell_type": "code",
   "execution_count": null,
   "id": "residential-rwanda",
   "metadata": {},
   "outputs": [],
   "source": []
  },
  {
   "cell_type": "code",
   "execution_count": 32,
   "id": "reflected-street",
   "metadata": {},
   "outputs": [
    {
     "data": {
      "text/plain": [
       "0.0504263319970067"
      ]
     },
     "execution_count": 32,
     "metadata": {},
     "output_type": "execute_result"
    }
   ],
   "source": [
    "df['all_percent'].mean()"
   ]
  },
  {
   "cell_type": "code",
   "execution_count": null,
   "id": "indie-phoenix",
   "metadata": {},
   "outputs": [],
   "source": []
  },
  {
   "cell_type": "code",
   "execution_count": 33,
   "id": "acute-advisory",
   "metadata": {},
   "outputs": [
    {
     "data": {
      "text/plain": [
       "all_percent    0.106819\n",
       "dtype: float64"
      ]
     },
     "execution_count": 33,
     "metadata": {},
     "output_type": "execute_result"
    }
   ],
   "source": [
    "ones[['all_percent']].std()"
   ]
  },
  {
   "cell_type": "code",
   "execution_count": 34,
   "id": "phantom-guard",
   "metadata": {},
   "outputs": [],
   "source": [
    "zeros = df.loc[(df[\"label\"] == 0)]"
   ]
  },
  {
   "cell_type": "code",
   "execution_count": 35,
   "id": "centered-february",
   "metadata": {},
   "outputs": [
    {
     "data": {
      "text/plain": [
       "all_percent    0.042824\n",
       "dtype: float64"
      ]
     },
     "execution_count": 35,
     "metadata": {},
     "output_type": "execute_result"
    }
   ],
   "source": [
    "zeros[['all_percent']].std()"
   ]
  },
  {
   "cell_type": "code",
   "execution_count": 36,
   "id": "british-agency",
   "metadata": {},
   "outputs": [
    {
     "data": {
      "text/plain": [
       "ggo_percent     0.023256\n",
       "cons_percent    0.008964\n",
       "dtype: float64"
      ]
     },
     "execution_count": 36,
     "metadata": {},
     "output_type": "execute_result"
    }
   ],
   "source": [
    "zeros[['ggo_percent', 'cons_percent']].mean()"
   ]
  },
  {
   "cell_type": "code",
   "execution_count": 37,
   "id": "academic-paragraph",
   "metadata": {},
   "outputs": [
    {
     "data": {
      "text/plain": [
       "ggo_percent     0.031939\n",
       "cons_percent    0.013292\n",
       "dtype: float64"
      ]
     },
     "execution_count": 37,
     "metadata": {},
     "output_type": "execute_result"
    }
   ],
   "source": [
    "zeros[['ggo_percent', 'cons_percent']].std()"
   ]
  },
  {
   "cell_type": "code",
   "execution_count": 42,
   "id": "engaged-wireless",
   "metadata": {},
   "outputs": [],
   "source": [
    "ones = ones[['ggo_percent', 'cons_percent']]\n",
    "zeros = zeros[['ggo_percent', 'cons_percent']]"
   ]
  },
  {
   "cell_type": "code",
   "execution_count": 58,
   "id": "special-jonathan",
   "metadata": {},
   "outputs": [
    {
     "data": {
      "text/plain": [
       "<AxesSubplot:ylabel='Frequency'>"
      ]
     },
     "execution_count": 58,
     "metadata": {},
     "output_type": "execute_result"
    },
    {
     "data": {
      "image/png": "[encoded data removed]",
      "text/plain": [
       "<Figure size 432x288 with 1 Axes>"
      ]
     },
     "metadata": {
      "needs_background": "light"
     },
     "output_type": "display_data"
    }
   ],
   "source": [
    "ones.plot.hist(bins = 75, alpha = 0.8)"
   ]
  },
  {
   "cell_type": "code",
   "execution_count": 59,
   "id": "elder-filter",
   "metadata": {},
   "outputs": [
    {
     "data": {
      "text/plain": [
       "<AxesSubplot:ylabel='Frequency'>"
      ]
     },
     "execution_count": 59,
     "metadata": {},
     "output_type": "execute_result"
    },
    {
     "data": {
      "image/png": "[encoded data removed]",
      "text/plain": [
       "<Figure size 432x288 with 1 Axes>"
      ]
     },
     "metadata": {
      "needs_background": "light"
     },
     "output_type": "display_data"
    }
   ],
   "source": [
    "zeros.plot.hist(bins = 75, alpha = 0.7)"
   ]
  },
  {
   "cell_type": "code",
   "execution_count": null,
   "id": "comparable-tracy",
   "metadata": {},
   "outputs": [],
   "source": []
  }
 ],
 "metadata": {
  "kernelspec": {
   "display_name": "Python 3",
   "language": "python",
   "name": "python3"
  },
  "language_info": {
   "codemirror_mode": {
    "name": "ipython",
    "version": 3
   },
   "file_extension": ".py",
   "mimetype": "text/x-python",
   "name": "python",
   "nbconvert_exporter": "python",
   "pygments_lexer": "ipython3",
   "version": "3.8.5"
  }
 },
 "nbformat": 4,
 "nbformat_minor": 5
}
