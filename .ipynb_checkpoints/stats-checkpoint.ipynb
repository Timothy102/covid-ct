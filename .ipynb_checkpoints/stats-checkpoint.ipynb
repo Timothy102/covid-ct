{
 "cells": [
  {
   "cell_type": "code",
   "execution_count": 150,
   "metadata": {},
   "outputs": [],
   "source": [
    "import pandas as pd\n",
    "import matplotlib.pyplot as plt\n",
    "import numpy as np\n",
    "from scipy.signal import savgol_filter\n",
    "import seaborn as sns\n",
    "from tqdm import tqdm\n",
    "%matplotlib inline"
   ]
  },
  {
   "cell_type": "code",
   "execution_count": 151,
   "metadata": {},
   "outputs": [],
   "source": [
    "dataAC = pd.read_csv(\"AC.csv\")\n",
    "dataAC = dataAC.replace({\"label\" : 0}, \"A\")\n",
    "dataAC = dataAC.replace({\"label\" : 1}, \"C\")\n",
    "dataA = data[data[\"label\"] == \"A\"]\n",
    "dataC = data[data[\"label\"] == \"C\"]"
   ]
  },
  {
   "cell_type": "code",
   "execution_count": 152,
   "metadata": {},
   "outputs": [],
   "source": [
    "dataB = pd.read_csv(\"B.csv\")\n",
    "dataB[\"label\"] = [\"B\"] * len(dataB)\n",
    "dataB[\"all_percent\"] = (dataB[\"ggo_vol\"] + dataB[\"cons_vol\"]) / dataB[\"lung_vol\"]\n",
    "dataB[\"ggo_percent\"] = dataB[\"ggo_vol\"] / dataB[\"lung_vol\"]\n",
    "dataB[\"cons_percent\"] = dataB[\"cons_vol\"] / dataB[\"lung_vol\"]"
   ]
  },
  {
   "cell_type": "code",
   "execution_count": 210,
   "metadata": {
    "scrolled": true
   },
   "outputs": [
    {
     "name": "stdout",
     "output_type": "stream",
     "text": [
      "0.13015055656573607\n"
     ]
    }
   ],
   "source": [
    "print(dataC[\"all_percent\"].mean())"
   ]
  },
  {
   "cell_type": "code",
   "execution_count": 157,
   "metadata": {},
   "outputs": [],
   "source": [
    "combined_df = pd.concat([dataA, dataB, dataC])"
   ]
  },
  {
   "cell_type": "code",
   "execution_count": 187,
   "metadata": {},
   "outputs": [
    {
     "name": "stderr",
     "output_type": "stream",
     "text": [
      "100%|██████████| 1000/1000 [07:19<00:00,  2.27it/s]\n"
     ]
    }
   ],
   "source": [
    "# We want to maximize percentage areas for each label.\n",
    "import time\n",
    "def calculate_thresholds(combined_df, epsilon=1e-7):\n",
    "    num_A = len(dataA)\n",
    "    num_B = len(dataB)\n",
    "    num_C = len(dataC)\n",
    "\n",
    "    maximum = 0.0\n",
    "    thresholds = dict()\n",
    "\n",
    "    for i in tqdm(range(0,1000,1)):        \n",
    "        for j in range(i,1000, 1):\n",
    "            temp = float(i) / 1000\n",
    "            j = float(j) / 1000\n",
    "            percA = float(len(dataA[dataA.all_percent < temp]))\n",
    "            percB = float(len(dataB[(dataB.all_percent >= temp) & (dataB.all_percent < j)]))\n",
    "            percC = float(len(dataC[dataC.all_percent >= j]))\n",
    "            #print(temp, j, percA, percB, percC)\n",
    "            #time.sleep(0.1)\n",
    "                          \n",
    "            if percA != 0.0:\n",
    "                percA = percA / num_A\n",
    "            if percB != 0.0:\n",
    "                percB = percB / num_B\n",
    "            if percC != 0.0:\n",
    "                percC = percC / num_C\n",
    "                \n",
    "            \n",
    "            \n",
    "            total = percA + percB + percC\n",
    "            if total > maximum:\n",
    "                thresholds[\"AB\"] = temp\n",
    "                thresholds[\"BC\"] = j\n",
    "                thresholds[\"maximum\"] = total / 3\n",
    "                maximum = total\n",
    "\n",
    "    return thresholds\n",
    "        \n",
    "thresholds = calculate_thresholds(data)"
   ]
  },
  {
   "cell_type": "code",
   "execution_count": 189,
   "metadata": {},
   "outputs": [
    {
     "name": "stdout",
     "output_type": "stream",
     "text": [
      "Total discriminative power:  0.6439870154835553\n",
      "{'AB': 0.018, 'BC': 0.062, 'maximum': 0.6439870154835553}\n"
     ]
    },
    {
     "data": {
      "image/png": "[encoded data removed]",
      "text/plain": [
       "<Figure size 432x288 with 1 Axes>"
      ]
     },
     "metadata": {
      "needs_background": "light"
     },
     "output_type": "display_data"
    }
   ],
   "source": [
    "sns.violinplot(x=\"all_percent\",y=\"label\", data=combined_df, split=True, linewidth=1)\n",
    "# Prvo je treba izračunat thresholde s calculate_thresholds()\n",
    "plt.axvline(thresholds[\"AB\"]) # AB diskriminacija\n",
    "plt.axvline(thresholds[\"BC\"]) # AC diskriminacija\n",
    "print(\"Total discriminative power: \", thresholds[\"maximum\"])\n",
    "print(thresholds)"
   ]
  },
  {
   "cell_type": "code",
   "execution_count": 198,
   "metadata": {},
   "outputs": [
    {
     "name": "stderr",
     "output_type": "stream",
     "text": [
      "/home/filip/.local/lib/python3.8/site-packages/seaborn/_decorators.py:36: FutureWarning: Pass the following variable as a keyword arg: x. From version 0.12, the only valid positional argument will be `data`, and passing other arguments without an explicit keyword will result in an error or misinterpretation.\n",
      "  warnings.warn(\n"
     ]
    },
    {
     "data": {
      "image/png": "[encoded data removed]",
      "text/plain": [
       "<Figure size 432x288 with 1 Axes>"
      ]
     },
     "metadata": {
      "needs_background": "light"
     },
     "output_type": "display_data"
    }
   ],
   "source": [
    "# Zgoraj na sliki so razporeditve pacientov glede na anomalije.\n",
    "# Meja med A in B znaša 3 %\n",
    "# Meja med B in C znaša 7 %\n",
    "\n",
    "final_test = pd.read_csv(\"final_test.csv\")\n",
    "\n",
    "final_test[\"all_percent\"] = (final_test[\"ggo_vol\"] + final_test[\"cons_vol\"]) / final_test[\"lung_vol\"]\n",
    "\n",
    "sns.violinplot(final_test[\"all_percent\"])\n",
    "\n",
    "\n",
    "def toabc(x):\n",
    "    if x < thresholds[\"AB\"]: return 'A'\n",
    "    if x >= thresholds[\"AB\"] and x < thresholds[\"BC\"]: return 'B'\n",
    "    else:\n",
    "        return 'C'\n",
    "\n",
    "final_test[\"class\"] = final_test[\"all_percent\"].apply(lambda x: toabc(x))\n",
    "\n",
    "# Podatki spodaj so bili uporabljeni za prvi krog tekmovanja."
   ]
  },
  {
   "cell_type": "code",
   "execution_count": 203,
   "metadata": {},
   "outputs": [],
   "source": [
    "final_test[[\"filename_img\", \"class\"]].to_csv(\"test.csv\", index=False)"
   ]
  },
  {
   "cell_type": "code",
   "execution_count": 211,
   "metadata": {},
   "outputs": [
    {
     "data": {
      "text/plain": [
       "B    37\n",
       "A    31\n",
       "C    30\n",
       "Name: class, dtype: int64"
      ]
     },
     "execution_count": 211,
     "metadata": {},
     "output_type": "execute_result"
    }
   ],
   "source": [
    "final_test[\"class\"].value_counts()"
   ]
  },
  {
   "cell_type": "code",
   "execution_count": 207,
   "metadata": {},
   "outputs": [
    {
     "ename": "AssertionError",
     "evalue": "",
     "output_type": "error",
     "traceback": [
      "\u001b[0;31m---------------------------------------------------------------------------\u001b[0m",
      "\u001b[0;31mAssertionError\u001b[0m                            Traceback (most recent call last)",
      "\u001b[0;32m<ipython-input-207-2eb863277f68>\u001b[0m in \u001b[0;36m<module>\u001b[0;34m\u001b[0m\n\u001b[1;32m      1\u001b[0m \u001b[0mcomp\u001b[0m \u001b[0;34m=\u001b[0m \u001b[0mpd\u001b[0m\u001b[0;34m.\u001b[0m\u001b[0mread_csv\u001b[0m\u001b[0;34m(\u001b[0m\u001b[0;34m\"compare.csv\"\u001b[0m\u001b[0;34m)\u001b[0m\u001b[0;34m\u001b[0m\u001b[0;34m\u001b[0m\u001b[0m\n\u001b[0;32m----> 2\u001b[0;31m \u001b[0;32massert\u001b[0m \u001b[0mlist\u001b[0m\u001b[0;34m(\u001b[0m\u001b[0mcomp\u001b[0m\u001b[0;34m[\u001b[0m\u001b[0;34m\"ggo_vol\"\u001b[0m\u001b[0;34m]\u001b[0m\u001b[0;34m)\u001b[0m \u001b[0;34m==\u001b[0m \u001b[0mlist\u001b[0m\u001b[0;34m(\u001b[0m\u001b[0mfinal_test\u001b[0m\u001b[0;34m[\u001b[0m\u001b[0;34m\"ggo_vol\"\u001b[0m\u001b[0;34m]\u001b[0m\u001b[0;34m)\u001b[0m\u001b[0;34m\u001b[0m\u001b[0;34m\u001b[0m\u001b[0m\n\u001b[0m",
      "\u001b[0;31mAssertionError\u001b[0m: "
     ]
    }
   ],
   "source": [
    "comp = pd.read_csv(\"compare.csv\")"
   ]
  },
  {
   "cell_type": "code",
   "execution_count": 6,
   "metadata": {},
   "outputs": [
    {
     "data": {
      "image/png": "[encoded data removed]",
      "text/plain": [
       "<Figure size 432x288 with 1 Axes>"
      ]
     },
     "metadata": {
      "needs_background": "light"
     },
     "output_type": "display_data"
    }
   ],
   "source": [
    "counts_1,_,_ = plt.hist(ones[\"all_percent\"].tolist(), bins=bins_list)\n",
    "counts_0,_,_ = plt.hist(zeros[\"all_percent\"].tolist(), bins=bins_list)"
   ]
  },
  {
   "cell_type": "code",
   "execution_count": 7,
   "metadata": {},
   "outputs": [],
   "source": [
    "counts_1 = np.array(counts_1)\n",
    "counts_0 = np.array(counts_0)"
   ]
  },
  {
   "cell_type": "code",
   "execution_count": 8,
   "metadata": {},
   "outputs": [],
   "source": [
    "counts_1 = counts_1 / len(ones)\n",
    "counts_0 = counts_0 / len(zeros)"
   ]
  },
  {
   "cell_type": "code",
   "execution_count": 9,
   "metadata": {},
   "outputs": [
    {
     "data": {
      "text/plain": [
       "[<matplotlib.lines.Line2D at 0x7f266b220d90>]"
      ]
     },
     "execution_count": 9,
     "metadata": {},
     "output_type": "execute_result"
    },
    {
     "data": {
      "image/png": "[encoded data removed]",
      "text/plain": [
       "<Figure size 432x288 with 1 Axes>"
      ]
     },
     "metadata": {
      "needs_background": "light"
     },
     "output_type": "display_data"
    }
   ],
   "source": [
    "plt.plot(counts_1)\n",
    "plt.plot(counts_0)"
   ]
  },
  {
   "cell_type": "code",
   "execution_count": 10,
   "metadata": {},
   "outputs": [
    {
     "data": {
      "text/plain": [
       "29"
      ]
     },
     "execution_count": 10,
     "metadata": {},
     "output_type": "execute_result"
    }
   ],
   "source": [
    "num = 0\n",
    "for i in counts_1:\n",
    "    if i != 0:\n",
    "        num += 1\n",
    "        \n",
    "param = ((num + len(counts_1))/2)\n",
    "#param = len(counts_1)\n",
    "counts_1 = [np.sum(counts_1)/param] * len(counts_1)\n",
    "num"
   ]
  },
  {
   "cell_type": "code",
   "execution_count": 11,
   "metadata": {},
   "outputs": [],
   "source": [
    "counts_0 = savgol_filter(counts_0, 17, 15)\n",
    "#counts_1 = savgol_filter(counts_1, 17, 5)"
   ]
  },
  {
   "cell_type": "code",
   "execution_count": 12,
   "metadata": {},
   "outputs": [
    {
     "data": {
      "text/plain": [
       "[<matplotlib.lines.Line2D at 0x7efd98d3f0d0>]"
      ]
     },
     "execution_count": 12,
     "metadata": {},
     "output_type": "execute_result"
    },
    {
     "data": {
      "image/png": "[encoded data removed]",
      "text/plain": [
       "<Figure size 432x288 with 1 Axes>"
      ]
     },
     "metadata": {
      "needs_background": "light"
     },
     "output_type": "display_data"
    }
   ],
   "source": [
    "plt.plot(counts_1)\n",
    "plt.plot(counts_0)"
   ]
  },
  {
   "cell_type": "code",
   "execution_count": 13,
   "metadata": {},
   "outputs": [],
   "source": [
    "# Če all percent nad 16 %, avtomatsko 1\n",
    "# Do 16 % upoštevaj razmerje = odds ratio\n",
    "# OR = score za 1 / score za 0\n",
    "epsilon = 1e-7\n",
    "probability_score = (np.array(counts_1) + epsilon) / (np.array(counts_0) + np.array(counts_1) + epsilon)"
   ]
  },
  {
   "cell_type": "code",
   "execution_count": 14,
   "metadata": {},
   "outputs": [
    {
     "data": {
      "text/plain": [
       "[<matplotlib.lines.Line2D at 0x7efd98d13160>]"
      ]
     },
     "execution_count": 14,
     "metadata": {},
     "output_type": "execute_result"
    },
    {
     "data": {
      "image/png": "[encoded data removed]",
      "text/plain": [
       "<Figure size 432x288 with 1 Axes>"
      ]
     },
     "metadata": {
      "needs_background": "light"
     },
     "output_type": "display_data"
    }
   ],
   "source": [
    "# odds ratio je kolikokrat bolj verjetno je 1 kot 0\n",
    "plt.plot(probability_score)"
   ]
  },
  {
   "cell_type": "code",
   "execution_count": 15,
   "metadata": {},
   "outputs": [
    {
     "data": {
      "text/plain": [
       "[<matplotlib.lines.Line2D at 0x7efd98c64b50>]"
      ]
     },
     "execution_count": 15,
     "metadata": {},
     "output_type": "execute_result"
    },
    {
     "data": {
      "image/png": "[encoded data removed]",
      "text/plain": [
       "<Figure size 432x288 with 1 Axes>"
      ]
     },
     "metadata": {
      "needs_background": "light"
     },
     "output_type": "display_data"
    }
   ],
   "source": [
    "probability_score = savgol_filter(probability_score, 7, 1)\n",
    "probability_score = savgol_filter(probability_score, 7, 1)\n",
    "plt.plot(probability_score)"
   ]
  },
  {
   "cell_type": "code",
   "execution_count": 15,
   "metadata": {},
   "outputs": [
    {
     "name": "stdout",
     "output_type": "stream",
     "text": [
      "[0.01777 0.07848 0.1392  0.19992 0.26047 0.31972 0.37925 0.44248 0.50718\n",
      " 0.56699 0.6231  0.68142 0.73614 0.78518 0.82163 0.85389 0.88397 0.90384\n",
      " 0.91408 0.92392 0.93089 0.93676 0.94014 0.94038 0.94174 0.9424  0.94018\n",
      " 0.93693 0.93497 0.93139 0.93298 0.94206 0.95348 0.96295 0.9734  0.9833\n",
      " 0.9938  0.99994 1.      0.99974 1.      0.99994 1.      1.      1.\n",
      " 1.      1.      1.      1.      1.      1.      1.      1.      1.\n",
      " 1.      1.      1.      1.      1.      1.      1.      1.      1.\n",
      " 1.      1.      1.      1.      1.      1.      1.      1.      1.\n",
      " 1.      1.      1.      1.      1.      1.      1.      1.      1.\n",
      " 1.      1.      1.      1.      1.      1.      1.      1.      1.\n",
      " 1.      1.      1.      1.      1.      1.      1.      1.      1.     ]\n",
      "[0.   0.01 0.02 0.03 0.04 0.05 0.06 0.07 0.08 0.09 0.1  0.11 0.12 0.13\n",
      " 0.14 0.15 0.16 0.17 0.18 0.19 0.2  0.21 0.22 0.23 0.24 0.25 0.26 0.27\n",
      " 0.28 0.29 0.3  0.31 0.32 0.33 0.34 0.35 0.36 0.37 0.38 0.39 0.4  0.41\n",
      " 0.42 0.43 0.44 0.45 0.46 0.47 0.48 0.49 0.5  0.51 0.52 0.53 0.54 0.55\n",
      " 0.56 0.57 0.58 0.59 0.6  0.61 0.62 0.63 0.64 0.65 0.66 0.67 0.68 0.69\n",
      " 0.7  0.71 0.72 0.73 0.74 0.75 0.76 0.77 0.78 0.79 0.8  0.81 0.82 0.83\n",
      " 0.84 0.85 0.86 0.87 0.88 0.89 0.9  0.91 0.92 0.93 0.94 0.95 0.96 0.97\n",
      " 0.98 0.99]\n"
     ]
    }
   ],
   "source": [
    "probability_score[probability_score >= 1.0] = 1.0\n",
    "probability_score[probability_score <= 0.0] = 0.0\n",
    "probability_score = np.around(probability_score, 5)\n",
    "print(probability_score)\n",
    "bins_list = np.around(bins_list, 2)\n",
    "print(bins_list)"
   ]
  },
  {
   "cell_type": "code",
   "execution_count": 36,
   "metadata": {},
   "outputs": [
    {
     "name": "stdout",
     "output_type": "stream",
     "text": [
      "{'0.00': '0.0178', '0.01': '0.0785', '0.02': '0.1392', '0.03': '0.1999', '0.04': '0.2605', '0.05': '0.3197', '0.06': '0.3793', '0.07': '0.4425', '0.08': '0.5072', '0.09': '0.5670', '0.10': '0.6231', '0.11': '0.6814', '0.12': '0.7361', '0.13': '0.7852', '0.14': '0.8216', '0.15': '0.8539', '0.16': '0.8840', '0.17': '0.9038', '0.18': '0.9141', '0.19': '0.9239', '0.20': '0.9309', '0.21': '0.9368', '0.22': '0.9401', '0.23': '0.9404', '0.24': '0.9417', '0.25': '0.9424', '0.26': '0.9402', '0.27': '0.9369', '0.28': '0.9350', '0.29': '0.9314', '0.30': '0.9330', '0.31': '0.9421', '0.32': '0.9535', '0.33': '0.9630', '0.34': '0.9734', '0.35': '0.9833', '0.36': '0.9938', '0.37': '0.9999', '0.38': '1.0005', '0.39': '0.9997', '0.40': '1.0002', '0.41': '0.9999', '0.42': '1.0000', '0.43': '1.0000', '0.44': '1.0000', '0.45': '1.0000', '0.46': '1.0000', '0.47': '1.0000', '0.48': '1.0000', '0.49': '1.0000', '0.50': '1.0000', '0.51': '1.0000', '0.52': '1.0000', '0.53': '1.0000', '0.54': '1.0000', '0.55': '1.0000', '0.56': '1.0000', '0.57': '1.0000', '0.58': '1.0000', '0.59': '1.0000', '0.60': '1.0000', '0.61': '1.0000', '0.62': '1.0000', '0.63': '1.0000', '0.64': '1.0000', '0.65': '1.0000', '0.66': '1.0000', '0.67': '1.0000', '0.68': '1.0000', '0.69': '1.0000', '0.70': '1.0000', '0.71': '1.0000', '0.72': '1.0000', '0.73': '1.0000', '0.74': '1.0000', '0.75': '1.0000', '0.76': '1.0000', '0.77': '1.0000', '0.78': '1.0000', '0.79': '1.0000', '0.80': '1.0000', '0.81': '1.0000', '0.82': '1.0000', '0.83': '1.0000', '0.84': '1.0000', '0.85': '1.0000', '0.86': '1.0000', '0.87': '1.0000', '0.88': '1.0000', '0.89': '1.0000'}\n"
     ]
    }
   ],
   "source": [
    "probs = {\"{:.2f}\".format(bins_list[i]) : \"{:.4f}\".format(probability_score[i]) for i in range(90)}\n",
    "print(probs)"
   ]
  },
  {
   "cell_type": "code",
   "execution_count": 37,
   "metadata": {},
   "outputs": [],
   "source": [
    "import json\n",
    "with open(\"probs.json\", \"w\") as file:\n",
    "    json.dump(probs, file, indent=4)"
   ]
  },
  {
   "cell_type": "code",
   "execution_count": 47,
   "metadata": {},
   "outputs": [],
   "source": [
    "import math\n",
    "y_true = []\n",
    "y_pred = []\n",
    "for _, row in data.iterrows():\n",
    "    cur_all_percent = row[\"all_percent\"]\n",
    "    key = math.trunc(cur_all_percent*100)\n",
    "    key = key/100\n",
    "    cur_prob = probs[str(\"{:.2f}\".format(key))]\n",
    "    y_true.append(float(row[\"label\"]))\n",
    "    y_pred.append(float(cur_prob))\n",
    "    "
   ]
  },
  {
   "cell_type": "code",
   "execution_count": 51,
   "metadata": {},
   "outputs": [],
   "source": [
    "from sklearn.metrics import roc_auc_score, roc_curve"
   ]
  },
  {
   "cell_type": "code",
   "execution_count": 50,
   "metadata": {},
   "outputs": [
    {
     "name": "stdout",
     "output_type": "stream",
     "text": [
      "0.884738387333543\n"
     ]
    }
   ],
   "source": [
    "print(roc_auc_score(y_true, y_pred))"
   ]
  },
  {
   "cell_type": "code",
   "execution_count": 53,
   "metadata": {},
   "outputs": [],
   "source": [
    "fpr, tpr, thresholds = roc_curve(y_true, y_pred)"
   ]
  },
  {
   "cell_type": "code",
   "execution_count": 54,
   "metadata": {},
   "outputs": [
    {
     "data": {
      "text/plain": [
       "[<matplotlib.lines.Line2D at 0x7efd91db4280>]"
      ]
     },
     "execution_count": 54,
     "metadata": {},
     "output_type": "execute_result"
    },
    {
     "data": {
      "image/png": "[encoded data removed]",
      "text/plain": [
       "<Figure size 432x288 with 1 Axes>"
      ]
     },
     "metadata": {
      "needs_background": "light"
     },
     "output_type": "display_data"
    }
   ],
   "source": [
    "plt.plot(fpr, tpr)"
   ]
  },
  {
   "cell_type": "code",
   "execution_count": null,
   "metadata": {},
   "outputs": [],
   "source": []
  }
 ],
 "metadata": {
  "kernelspec": {
   "display_name": "Python 3",
   "language": "python",
   "name": "python3"
  },
  "language_info": {
   "codemirror_mode": {
    "name": "ipython",
    "version": 3
   },
   "file_extension": ".py",
   "mimetype": "text/x-python",
   "name": "python",
   "nbconvert_exporter": "python",
   "pygments_lexer": "ipython3",
   "version": "3.8.5"
  }
 },
 "nbformat": 4,
 "nbformat_minor": 4
}
